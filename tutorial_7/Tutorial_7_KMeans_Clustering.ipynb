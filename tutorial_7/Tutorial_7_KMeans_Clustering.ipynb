{
 "cells": [
  {
   "cell_type": "code",
   "execution_count": 1,
   "metadata": {},
   "outputs": [],
   "source": [
    "from typing import List\n",
    "import random\n",
    "\n",
    "import math\n",
    "import numpy as np\n",
    "import matplotlib.pyplot as plt\n",
    "import itertools"
   ]
  },
  {
   "cell_type": "code",
   "execution_count": 2,
   "metadata": {},
   "outputs": [],
   "source": [
    "class Centroid:\n",
    "    def __init__(self, x, y):\n",
    "        self.x = x\n",
    "        self.y = y\n",
    "\n",
    "    def change_centroid(self, x, y):\n",
    "        self.x = x\n",
    "        self.y = y\n",
    "\n",
    "\n",
    "class Point:\n",
    "    def __init__(self, x, y):\n",
    "        self.x = x\n",
    "        self.y = y\n",
    "        self.centroid = None\n",
    "\n",
    "    def assign_centroid(self, centroid: Centroid):\n",
    "        self.centroid = centroid"
   ]
  },
  {
   "cell_type": "code",
   "execution_count": 3,
   "metadata": {},
   "outputs": [],
   "source": [
    "def get_min_max_x_y(points: List[Point]) -> (float, float, float, float):\n",
    "    min_x = 0.0\n",
    "    max_x = 0.0\n",
    "    min_y = 0.0\n",
    "    max_y = 0.0\n",
    "    for point in points:\n",
    "        if min_x > point.x or min_x == 0:\n",
    "            min_x = point.x\n",
    "        if max_x < point.x or max_x == 0:\n",
    "            max_x = point.x\n",
    "        if min_y > point.y or min_y == 0:\n",
    "            min_y = point.y\n",
    "        if max_y < point.y or max_y == 0:\n",
    "            max_y = point.y\n",
    "    return min_x, max_x, min_y, max_y\n",
    "\n",
    "\n",
    "def read_dataset() -> (List[Point], float, float, float, float):\n",
    "    points = []\n",
    "    path = \"./data/dataset\"\n",
    "    with open(path, \"r\", encoding='latin-1') as f:\n",
    "        for line in f.readlines():\n",
    "            entry = line.split()\n",
    "            points.append(Point(float(entry[1]) / 10, float(entry[2]) / 100))\n",
    "    min_x, max_x, min_y, max_y = get_min_max_x_y(points)\n",
    "    return points, min_x, max_x, min_y, max_y\n",
    "\n",
    "\n",
    "# place cluster centers ck randomly for all k = 1, ... ,K\n",
    "def init_cluster_centroids(num_clusters, min_x: float, max_x: float, min_y: float, max_y: float) -> List[Centroid]:\n",
    "    centroids = [Centroid(random.uniform(min_x, max_x), random.uniform(min_y, max_y))\n",
    "                 for _ in itertools.repeat(None, num_clusters)]\n",
    "    return centroids\n",
    "\n",
    "\n",
    "def get_distance(p: Point, c: Centroid) -> float:\n",
    "    # euclidean distance\n",
    "    square_diff_x = pow((p.x - c.x), 2)\n",
    "    square_diff_y = pow((p.y - c.y), 2)\n",
    "    accumulated_diff = square_diff_x + square_diff_y\n",
    "    distance = math.sqrt(accumulated_diff)\n",
    "    return distance\n",
    "\n",
    "\n",
    "def find_smallest_distance_to_centroid(p: Point, centroids: List[Centroid]) -> Centroid:\n",
    "    distances = []\n",
    "    for centroid in centroids:\n",
    "        distances.append(get_distance(p, centroid))\n",
    "    index = distances.index(min(distances))\n",
    "    return centroids[index]\n",
    "\n",
    "\n",
    "def initial_assign_points_to_clusters(points: List[Point], centroids: List[Centroid]):\n",
    "    for p in points:\n",
    "        p.assign_centroid(find_smallest_distance_to_centroid(p, centroids))\n",
    "\n",
    "\n",
    "# assign data point xi to nearest cluster center\n",
    "def assign_points_to_clusters(points: List[Point], centroids: List[Centroid]):\n",
    "    changes = False\n",
    "    for p in points:\n",
    "        nearest_centroid = find_smallest_distance_to_centroid(p, centroids)\n",
    "        if p.centroid != nearest_centroid:\n",
    "            changes = True\n",
    "            p.assign_centroid(nearest_centroid)\n",
    "    return changes"
   ]
  },
  {
   "cell_type": "code",
   "execution_count": 4,
   "metadata": {
    "collapsed": true
   },
   "outputs": [],
   "source": [
    "def init_clusters(k: int) -> (List[Point], List[Centroid]):\n",
    "    points, min_x, max_x, min_y, max_y = read_dataset()\n",
    "    centroids = init_cluster_centroids(k, min_x, max_x, min_y, max_y)\n",
    "    initial_assign_points_to_clusters(points, centroids)\n",
    "    return points, centroids"
   ]
  },
  {
   "cell_type": "code",
   "execution_count": 5,
   "metadata": {
    "collapsed": true
   },
   "outputs": [],
   "source": [
    "def find_new_centroid(points: List[Point]) -> (int, int):\n",
    "    list_x = []\n",
    "    list_y = []\n",
    "    for p in points:\n",
    "        list_x.append(p.x)\n",
    "        list_y.append(p.y)\n",
    "\n",
    "    centroid_x = np.mean(list_x)\n",
    "    centroid_y = np.mean(list_y)\n",
    "    return centroid_x, centroid_y\n",
    "\n",
    "\n",
    "# recompute cluster centers\n",
    "def recompute_centroids(points: List[Point], centroids: List[Centroid]):\n",
    "    for centroid in centroids:\n",
    "        cluster_points = []\n",
    "        for p in points:\n",
    "            if p.centroid == centroid:\n",
    "                cluster_points.append(p)\n",
    "        if len(cluster_points) > 0:\n",
    "            x, y = find_new_centroid(cluster_points)\n",
    "            centroid.change_centroid(x, y)\n"
   ]
  },
  {
   "cell_type": "code",
   "execution_count": 6,
   "metadata": {
    "collapsed": true
   },
   "outputs": [],
   "source": [
    "# reiterate until there are no changes in assignments\n",
    "def fit_clusters(points: List[Point], centroids: List[Centroid]) -> (List[Point], List[Centroid]):\n",
    "    changes = True\n",
    "    max_rounds = 20\n",
    "    i = 0\n",
    "    while changes:\n",
    "        recompute_centroids(points, centroids)\n",
    "        changes = assign_points_to_clusters(points, centroids)\n",
    "        i += 1\n",
    "        if i >= max_rounds:\n",
    "            changes = False\n",
    "    print(\"Needed {} round/s to fit cluster/s\".format(i))\n",
    "    return points, centroids"
   ]
  },
  {
   "cell_type": "code",
   "execution_count": 7,
   "metadata": {},
   "outputs": [],
   "source": [
    "class Summary:\n",
    "    def __init__(self, k: int, wss: float, points: List[Point], centroids: List[Centroid]):\n",
    "        self.k = k\n",
    "        self.wss = wss\n",
    "        self.points = points\n",
    "        self.centroids = centroids\n",
    "        \n",
    "\n",
    "def wss_of_a_clusters(points: List[Point], centroid: Centroid) -> float:\n",
    "    wss_k = 0.0\n",
    "    for point in points:\n",
    "        wss_i = get_distance(point, centroid)\n",
    "        wss_k += wss_i\n",
    "    return wss_k\n",
    "\n",
    "\n",
    "def calc_wss_in_clusters(points: List[Point], centroids: List[Centroid]) -> float:\n",
    "    wss = 0.0\n",
    "    for centroid in centroids:\n",
    "        cluster_points = []\n",
    "        for p in points:\n",
    "            if p.centroid == centroid:\n",
    "                cluster_points.append(p)\n",
    "        wss_k = wss_of_a_clusters(cluster_points, centroid)\n",
    "        wss += wss_k\n",
    "    return wss\n",
    "\n",
    "\n",
    "def eval_k(k: int) -> (float, List[Point], List[Centroid]):\n",
    "    print(\"------------ Clusters k: {} ------------\".format(k))\n",
    "    points, centroids = init_clusters(k)\n",
    "    print(\"--- Clusters initialized ---\")\n",
    "    fit_clusters(points, centroids)\n",
    "    print(\"--- Clusters fitted ---\")\n",
    "    wss = calc_wss_in_clusters(points, centroids)\n",
    "    return wss, points, centroids\n",
    "\n",
    "\n",
    "# Determine the best K by computing within-cluster sum of squares\n",
    "def find_best_k() -> (int, float, List[Point], List[Centroid]):\n",
    "    k_r = range(1, 10)\n",
    "    summaries = []\n",
    "    for k in k_r:\n",
    "        wss, points, centroids = eval_k(k)\n",
    "        summaries.append(Summary(k, wss, points, centroids))\n",
    "    return summaries"
   ]
  },
  {
   "cell_type": "code",
   "execution_count": 8,
   "metadata": {},
   "outputs": [
    {
     "name": "stdout",
     "output_type": "stream",
     "text": [
      "------------ Clusters k: 1 ------------\n--- Clusters initialized ---\nNeeded 1 round/s to fit cluster/s\n--- Clusters fitted ---\n------------ Clusters k: 2 ------------\n--- Clusters initialized ---\nNeeded 2 round/s to fit cluster/s\n--- Clusters fitted ---\n------------ Clusters k: 3 ------------\n--- Clusters initialized ---\nNeeded 8 round/s to fit cluster/s\n--- Clusters fitted ---\n------------ Clusters k: 4 ------------\n--- Clusters initialized ---\nNeeded 17 round/s to fit cluster/s\n--- Clusters fitted ---\n------------ Clusters k: 5 ------------\n--- Clusters initialized ---\nNeeded 5 round/s to fit cluster/s\n--- Clusters fitted ---\n------------ Clusters k: 6 ------------\n--- Clusters initialized ---\nNeeded 20 round/s to fit cluster/s\n--- Clusters fitted ---\n------------ Clusters k: 7 ------------\n--- Clusters initialized ---"
     ]
    },
    {
     "name": "stdout",
     "output_type": "stream",
     "text": [
      "\nNeeded 15 round/s to fit cluster/s\n--- Clusters fitted ---\n------------ Clusters k: 8 ------------\n--- Clusters initialized ---\nNeeded 9 round/s to fit cluster/s\n--- Clusters fitted ---\n------------ Clusters k: 9 ------------\n--- Clusters initialized ---\nNeeded 20 round/s to fit cluster/s\n--- Clusters fitted ---\n"
     ]
    }
   ],
   "source": [
    "# find best k\n",
    "summaries = find_best_k()"
   ]
  },
  {
   "cell_type": "code",
   "execution_count": 9,
   "metadata": {},
   "outputs": [
    {
     "data": {
      "image/png": "[encoded data removed]",
      "text/plain": [
       "<matplotlib.figure.Figure at 0x7f8151f10208>"
      ]
     },
     "metadata": {},
     "output_type": "display_data"
    }
   ],
   "source": [
    "def plot_clusters(summaries: List[Summary]):\n",
    "    k = []\n",
    "    wss = []\n",
    "    for sum in summaries:\n",
    "        k.append(sum.k)\n",
    "        wss.append(sum.wss)\n",
    "\n",
    "    plt.plot(k, wss, 'bx-')\n",
    "    plt.xlabel('k')\n",
    "    plt.ylabel('WSS')\n",
    "    plt.title('Determine the optimal k with the elbow method')\n",
    "    plt.show()\n",
    "\n",
    "\n",
    "# plot results\n",
    "plot_clusters(summaries)"
   ]
  },
  {
   "cell_type": "code",
   "execution_count": null,
   "metadata": {
    "collapsed": true
   },
   "outputs": [],
   "source": []
  }
 ],
 "metadata": {
  "kernelspec": {
   "display_name": "Python 3",
   "language": "python",
   "name": "python3"
  },
  "language_info": {
   "codemirror_mode": {
    "name": "ipython",
    "version": 3
   },
   "file_extension": ".py",
   "mimetype": "text/x-python",
   "name": "python",
   "nbconvert_exporter": "python",
   "pygments_lexer": "ipython3",
   "version": "3.4.3"
  }
 },
 "nbformat": 4,
 "nbformat_minor": 2
}
