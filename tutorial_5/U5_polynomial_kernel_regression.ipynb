{
 "cells": [
  {
   "cell_type": "code",
   "execution_count": 1,
   "metadata": {
    "collapsed": false
   },
   "outputs": [],
   "source": [
    "%matplotlib inline\n",
    "import pandas as pd\n",
    "import matplotlib.pyplot as plt\n",
    "import numpy as np"
   ]
  },
  {
   "cell_type": "markdown",
   "metadata": {},
   "source": [
    "## Task a) Generating Dataset"
   ]
  },
  {
   "cell_type": "code",
   "execution_count": 2,
   "metadata": {
    "collapsed": false
   },
   "outputs": [],
   "source": [
    "n = 200\n",
    "Xi = np.random.rand(n)\n",
    "Nd = np.random.normal(0, 1, n)\n",
    "Yi = []\n",
    "for i, e in enumerate(Nd):\n",
    "    #Yi.append(np.sin(2*np.pi*Xi[i]/float(n/2)) + e)\n",
    "    Yi.append(np.sin(Xi[i]) + e)"
   ]
  },
  {
   "cell_type": "code",
   "execution_count": 3,
   "metadata": {
    "collapsed": false
   },
   "outputs": [
    {
     "data": {
      "text/plain": [
       "<matplotlib.collections.PathCollection at 0x1100a1668>"
      ]
     },
     "execution_count": 3,
     "metadata": {},
     "output_type": "execute_result"
    },
    {
     "data": {
      "image/png": "[encoded data removed]",
      "text/plain": [
       "<matplotlib.figure.Figure at 0x10fbdce48>"
      ]
     },
     "metadata": {},
     "output_type": "display_data"
    }
   ],
   "source": [
    "plt.scatter(Xi,Yi)"
   ]
  },
  {
   "cell_type": "code",
   "execution_count": 4,
   "metadata": {
    "collapsed": true
   },
   "outputs": [],
   "source": [
    "def kernel_poly(X, degree):\n",
    "    if degree>=2:\n",
    "        for i in range(2, degree+1):\n",
    "            X = np.append(X, X[:,1:]**i, axis=1)\n",
    "    return np.matrix(X)\n",
    "\n",
    "def kernel_radial(X, lmda):\n",
    "    means = []\n",
    "    X_Sig = X[:,0,None]\n",
    "    for i in range(1, X.shape[1]):\n",
    "        means.append(np.mean(X[:,i]))\n",
    "    for i in range(1, X.shape[1]):\n",
    "        for ui in means:\n",
    "            rad = np.exp( (1/lmda) * (X[:,i,None] - ui)**2)\n",
    "            X_Sig = np.append(X_Sig, rad, axis=1)\n",
    "    return np.matrix(X_Sig)\n",
    "\n",
    "#compute coefficent-vector b\n",
    "def train(X, Y, delta, I):\n",
    "    return np.linalg.inv(X.transpose()*X +(delta**2)*I)*X.transpose()*Y\n",
    "    \n",
    "#compute modeled Y\n",
    "def test(x, b):\n",
    "    return x*b\n",
    "\n",
    "#compute quadric loss\n",
    "def calcLoss(testY, predY):\n",
    "    #dist = (Y-Y_r)\n",
    "    loss = 0\n",
    "    dist = []\n",
    "    for i,v in enumerate(testY.tolist()[0]):\n",
    "        dist.append((testY.item(i)-predY.item(i))**2)\n",
    "    for i,v in enumerate(dist):\n",
    "        loss += dist[i]\n",
    "    return (loss/len(dist))\n",
    "    \n",
    "def ridge_regress(trainX, trainY, testX, testY, delta = 0, mode = 'poly', degree = 1, lmbda = 1):\n",
    "    #Preprocess to convert for Matrix-Operations\n",
    "    #X = np.matrix(X)\n",
    "    trainY = np.matrix(trainY).transpose()\n",
    "    testY = np.matrix(testY).transpose()\n",
    "    #Transform X with Kernel-Function\n",
    "    if mode is 'poly':\n",
    "        trainX = kernel_poly(trainX, degree)\n",
    "        testX = kernel_poly(testX, degree)\n",
    "    elif mode is 'radial':\n",
    "        trainX = kernel_radial(trainX, lmbda)\n",
    "        testX = kernel_radial(testX, lmbda)\n",
    "    #Prepare sym. Matrix for penalty-term\n",
    "    I = np.ones(trainX.shape[1])\n",
    "    I = np.diag(I)\n",
    "    #compute coefficent-vector b\n",
    "    b = train(trainX, trainY, delta, I)\n",
    "    #compute modeled Y\n",
    "    predY = test(testX, b)\n",
    "    #compute quadric loss\n",
    "    loss = calcLoss(testY, predY)\n",
    "    return b, loss, predY"
   ]
  },
  {
   "cell_type": "code",
   "execution_count": 5,
   "metadata": {
    "collapsed": false
   },
   "outputs": [
    {
     "data": {
      "text/plain": [
       "0.0006823939685705306"
      ]
     },
     "execution_count": 5,
     "metadata": {},
     "output_type": "execute_result"
    }
   ],
   "source": [
    "#simple linear regression example\n",
    "Y = np.array(Yi)\n",
    "x = np.array(Xi)\n",
    "padding = np.ones(len(x))\n",
    "X = np.stack((padding, x), axis=1)\n",
    "trainX = X\n",
    "testX = X\n",
    "trainY = Y\n",
    "testY =Y\n",
    "b, loss, Yp = ridge_regress(trainX, trainY, testX, testY, delta = 1, degree = 1)\n",
    "loss"
   ]
  },
  {
   "cell_type": "code",
   "execution_count": 6,
   "metadata": {
    "collapsed": false
   },
   "outputs": [
    {
     "data": {
      "image/png": "[encoded data removed]",
      "text/plain": [
       "<matplotlib.figure.Figure at 0x1100edf98>"
      ]
     },
     "metadata": {},
     "output_type": "display_data"
    }
   ],
   "source": [
    "plt.scatter(x,  Y, color='yellow')\n",
    "plt.scatter(x, Yp.tolist(), color='green')\n",
    "plt.plot()\n",
    "plt.show()\n",
    "plt.close()"
   ]
  },
  {
   "cell_type": "markdown",
   "metadata": {},
   "source": [
    "## Task b) Validate and Visualize Polynomial Regression"
   ]
  },
  {
   "cell_type": "code",
   "execution_count": 7,
   "metadata": {
    "collapsed": false
   },
   "outputs": [
    {
     "data": {
      "text/plain": [
       "0.005311300857210645"
      ]
     },
     "execution_count": 7,
     "metadata": {},
     "output_type": "execute_result"
    }
   ],
   "source": [
    "#polynomial regression example\n",
    "Y = np.array(Yi)\n",
    "x = np.array(Xi)\n",
    "padding = np.ones(len(x))\n",
    "X = np.stack((padding, x), axis=1)\n",
    "trainX = X\n",
    "testX = X\n",
    "trainY = Y\n",
    "testY =Y\n",
    "b, loss, Yp = ridge_regress(trainX, trainY, testX, testY, delta=1, degree = 5)\n",
    "loss"
   ]
  },
  {
   "cell_type": "code",
   "execution_count": 8,
   "metadata": {
    "collapsed": false
   },
   "outputs": [
    {
     "data": {
      "image/png": "[encoded data removed]",
      "text/plain": [
       "<matplotlib.figure.Figure at 0x11012e438>"
      ]
     },
     "metadata": {},
     "output_type": "display_data"
    }
   ],
   "source": [
    "plt.scatter(x,  Y, color='yellow')\n",
    "plt.scatter(x, Yp.tolist(), color='green')\n",
    "plt.plot()\n",
    "plt.show()\n",
    "plt.close()"
   ]
  },
  {
   "cell_type": "code",
   "execution_count": 9,
   "metadata": {
    "collapsed": false
   },
   "outputs": [],
   "source": [
    "#5-fold Cross-Validation\n",
    "import random\n",
    "\n",
    "def crossvalidation(X, Y, maxParam, mode, k=5):\n",
    "    X,Y = shuffleList(X,Y)\n",
    "    lx = splitKFolds(X, k)\n",
    "    ly = splitKFolds(Y, k)\n",
    "    lossAll = []\n",
    "    paramAll = []\n",
    "    for i in range(1, maxParam):\n",
    "        loss = calcLossPerParamValue(lx, ly, i, mode)\n",
    "        lossAll.append(loss)\n",
    "        paramAll.append(i)\n",
    "    return paramAll, lossAll\n",
    "    \n",
    "def shuffleList(X,Y):\n",
    "    zipped = list(zip(X,Y))\n",
    "    random.shuffle(zipped)\n",
    "    x, y = zip(*zipped)\n",
    "    X=[]\n",
    "    X.append(x)\n",
    "    X= [x for a in X for x in a]\n",
    "    Y=[]\n",
    "    Y.append(y)\n",
    "    Y= [y for a in Y for y in a]\n",
    "    return X, Y\n",
    "    \n",
    "def calcLossPerParamValue(lx, ly, paramValue, mode):\n",
    "    lossAverage = 0.0\n",
    "    for i in range(len(lx)):\n",
    "        trainX, testX = splitTrainTest(lx, i)\n",
    "        trainY, testY = splitTrainTest(ly, i)\n",
    "        if mode == \"poly\":\n",
    "            b, loss, Yp = ridge_regress(trainX, trainY, testX, testY, delta=1, mode=\"poly\", degree=paramValue)\n",
    "        else:\n",
    "            b, loss, Yp = ridge_regress(trainX, trainY, testX, testY, delta=1, mode=\"radial\", lmbda=paramValue)\n",
    "        lossAverage = lossAverage + loss\n",
    "    return lossAverage / len(lx)\n",
    "\n",
    "def splitTrainTest(l, i):\n",
    "    test = l[i]\n",
    "    train = []\n",
    "    for j in range(len(l)):\n",
    "        if j != i:\n",
    "            train = train + l[j]\n",
    "    return np.array(train), np.array(test)\n",
    "    \n",
    "def splitKFolds(X, k):\n",
    "    step = int((len(X) - (len(X) % k)) / k)\n",
    "    l = []\n",
    "    for i in range(0, len(X) - (len(X) % k), step):\n",
    "        l.append(X[i:i + step])\n",
    "    if (len(X) % k) > 0:\n",
    "        for i in X[-(len(X) % k):]:\n",
    "            l[-1].append(i) \n",
    "    return l"
   ]
  },
  {
   "cell_type": "code",
   "execution_count": 10,
   "metadata": {
    "collapsed": false
   },
   "outputs": [
    {
     "data": {
      "text/plain": [
       "[0.7381125232780905,\n",
       " 0.7645101523576745,\n",
       " 0.766137108885308,\n",
       " 0.6734341347930505,\n",
       " 0.6776049184706955,\n",
       " 0.7077973539438067,\n",
       " 0.7477230820393491,\n",
       " 0.7732284792517772,\n",
       " 0.7822192306614919,\n",
       " 0.781670492294298,\n",
       " 0.7766539947203558,\n",
       " 0.7698744017128004]"
      ]
     },
     "execution_count": 10,
     "metadata": {},
     "output_type": "execute_result"
    }
   ],
   "source": [
    "#polynomial regression example\n",
    "Y = np.array(Yi)\n",
    "x = np.array(Xi)\n",
    "padding = np.ones(len(x))\n",
    "X = np.stack((padding, x), axis=1)\n",
    "degree, loss = crossvalidation(X.tolist(), Y.tolist(), 13, \"poly\")\n",
    "loss"
   ]
  },
  {
   "cell_type": "code",
   "execution_count": 11,
   "metadata": {
    "collapsed": false
   },
   "outputs": [
    {
     "data": {
      "image/png": "[encoded data removed]",
      "text/plain": [
       "<matplotlib.figure.Figure at 0x110128160>"
      ]
     },
     "metadata": {},
     "output_type": "display_data"
    }
   ],
   "source": [
    "plt.plot(degree,  loss, color='green')\n",
    "\n",
    "plt.plot()\n",
    "plt.show()\n",
    "plt.close()"
   ]
  },
  {
   "cell_type": "markdown",
   "metadata": {},
   "source": [
    "## Task c) Validate and Visualize Radial Basis Regression"
   ]
  },
  {
   "cell_type": "code",
   "execution_count": 17,
   "metadata": {
    "collapsed": false
   },
   "outputs": [
    {
     "data": {
      "text/plain": [
       "0.1658498711107676"
      ]
     },
     "execution_count": 17,
     "metadata": {},
     "output_type": "execute_result"
    }
   ],
   "source": [
    "#radial regression\n",
    "Y = np.array(Yi)\n",
    "x = np.array(Xi)\n",
    "padding = np.ones(len(x))\n",
    "X = np.stack((padding, x), axis=1)\n",
    "trainX = X\n",
    "testX = X\n",
    "trainY = Y\n",
    "testY =Y\n",
    "b, loss, Yp = ridge_regress(trainX, trainY, testX, testY, delta=10, mode='radial', lmbda=1)\n",
    "loss"
   ]
  },
  {
   "cell_type": "code",
   "execution_count": 18,
   "metadata": {
    "collapsed": false
   },
   "outputs": [
    {
     "data": {
      "image/png": "[encoded data removed]",
      "text/plain": [
       "<matplotlib.figure.Figure at 0x10c64eac8>"
      ]
     },
     "metadata": {},
     "output_type": "display_data"
    }
   ],
   "source": [
    "plt.scatter(x,  Y, color='yellow')\n",
    "plt.scatter(x, Yp.tolist(), color='green')\n",
    "plt.plot()\n",
    "plt.show()\n",
    "plt.close()"
   ]
  },
  {
   "cell_type": "code",
   "execution_count": null,
   "metadata": {
    "collapsed": true
   },
   "outputs": [],
   "source": []
  }
 ],
 "metadata": {
  "kernelspec": {
   "display_name": "Python 3",
   "language": "python",
   "name": "python3"
  },
  "language_info": {
   "codemirror_mode": {
    "name": "ipython",
    "version": 3
   },
   "file_extension": ".py",
   "mimetype": "text/x-python",
   "name": "python",
   "nbconvert_exporter": "python",
   "pygments_lexer": "ipython3",
   "version": "3.6.3"
  }
 },
 "nbformat": 4,
 "nbformat_minor": 2
}
