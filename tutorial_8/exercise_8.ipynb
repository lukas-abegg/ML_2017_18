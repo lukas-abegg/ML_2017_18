{
 "cells": [
  {
   "cell_type": "code",
   "execution_count": null,
   "metadata": {
    "collapsed": true
   },
   "outputs": [],
   "source": [
    "%matplotlib inline\n",
    "import pandas as pd\n",
    "import numpy as np\n",
    "import random\n",
    "import matplotlib.pyplot as plt"
   ]
  },
  {
   "cell_type": "markdown",
   "metadata": {},
   "source": [
    "# a) Define Algorithm for Gaussian Mixture Models with EM-Algorithm"
   ]
  },
  {
   "cell_type": "code",
   "execution_count": 2,
   "metadata": {
    "collapsed": false
   },
   "outputs": [],
   "source": [
    "def get_features(datapath, hasIndex=True):\n",
    "    x = []\n",
    "    file = open(datapath)\n",
    "    for datapoint in file:\n",
    "        if hasIndex:\n",
    "            x.append([float(d)*0.1 for d in datapoint.split()[1:]])\n",
    "        else:\n",
    "            x.append([float(d)*0.1 for d in datapoint.split()])\n",
    "    return np.stack(x, axis=1)"
   ]
  },
  {
   "cell_type": "code",
   "execution_count": 3,
   "metadata": {
    "collapsed": true
   },
   "outputs": [],
   "source": [
    "class Cluster:\n",
    "    def __init__(self, X, k):\n",
    "        #initilize mean, covariance, size(pi) for each feature\n",
    "        #self.means = [random.uniform(np.min(f), np.max(f)) for f in X]\n",
    "        self.means = (X.T[np.random.choice(X.shape[1]), :]).T\n",
    "        #self.covs = [compute_covs(X, mean, 1, 1) for mean in self.means]\n",
    "        self.cov = np.eye(X.shape[0]) #compute_covs(X, self.means, 1, 1)\n",
    "        self.pi = 1./k\n",
    "        self.R = np.zeros(X.shape[1])\n",
    "    \n",
    "    def update_params(self, means, cov, pi):\n",
    "        self.means = means\n",
    "        self.cov = cov\n",
    "        self.pi = pi\n",
    "        \n",
    "    def update_R(self, R):\n",
    "        self.R = R\n",
    "        \n",
    "    def normalize_R(self, R_M):\n",
    "        self.R = np.array(self.R / np.sum(R_M, axis=0))\n",
    "        self.m = np.sum(self.R)"
   ]
  },
  {
   "cell_type": "code",
   "execution_count": 4,
   "metadata": {
    "collapsed": false
   },
   "outputs": [],
   "source": [
    "def initilize_clusters(X, k):\n",
    "    clusters = []\n",
    "    for i in range(k):\n",
    "        clusters.append(Cluster(X, k))\n",
    "    return clusters"
   ]
  },
  {
   "cell_type": "code",
   "execution_count": 5,
   "metadata": {
    "collapsed": true
   },
   "outputs": [],
   "source": [
    "def update_params(c, X):\n",
    "    m = compute_mean(X, c.R, c.means)\n",
    "    cov = compute_covs(m[1], m[0], c.R, c.m)\n",
    "    p = compute_pi(X.shape[1], c.m)\n",
    "    c.update_params(m[0], cov, p)"
   ]
  },
  {
   "cell_type": "code",
   "execution_count": 6,
   "metadata": {
    "collapsed": false
   },
   "outputs": [],
   "source": [
    "def compute_covs(X, mean, r, m):\n",
    "    return np.array( 1/np.array(m) * np.dot(np.multiply(X, r), X.T) )"
   ]
  },
  {
   "cell_type": "code",
   "execution_count": 7,
   "metadata": {
    "collapsed": true
   },
   "outputs": [],
   "source": [
    "def compute_mean(X, r, m):\n",
    "    mean = 1./np.array(m) * np.sum(r * X, axis=1)\n",
    "    x_m = np.matrix((X.T - mean).T)\n",
    "    return (mean, x_m)"
   ]
  },
  {
   "cell_type": "code",
   "execution_count": 8,
   "metadata": {
    "collapsed": true
   },
   "outputs": [],
   "source": [
    "def compute_pi(n, m):\n",
    "    return 1. / n * np.array(m)"
   ]
  },
  {
   "cell_type": "code",
   "execution_count": 140,
   "metadata": {
    "collapsed": true
   },
   "outputs": [],
   "source": [
    "def compute_R(X, cl):\n",
    "    return cl.pi * multi_variat_gauss(X, cl.means, cl.cov)\n",
    "\n",
    "def multi_variat_gauss(X, mean, cov):\n",
    "    fst = np.linalg.det(cov) ** -.5 ** (2*np.pi) ** (X.shape[0]/2)\n",
    "    #dot = np.dot(np.linalg.pinv(cov), (X.T - mean).T).T\n",
    "    dot = np.dot(np.linalg.inv(cov + np.eye(len(mean))*1e-15), (X.T - mean).T).T\n",
    "    snd = np.exp(-.5 * np.einsum('ij, ij -> i', X.T -mean, dot))\n",
    "    return fst*snd"
   ]
  },
  {
   "cell_type": "code",
   "execution_count": 154,
   "metadata": {
    "collapsed": false
   },
   "outputs": [],
   "source": [
    "#EM-Algo:\n",
    "def EM(datapath, k, iterations, delta):\n",
    "    data = get_features(datapath)\n",
    "    clusters = initilize_clusters(data, k)\n",
    "    lls = []\n",
    "\n",
    "    for step in range(iterations):\n",
    "        #Initilize responsibility-matrix\n",
    "        R_m = []\n",
    "        #E-Step:\n",
    "        for c in clusters:\n",
    "            R = compute_R(data, c)\n",
    "            c.update_R(R)\n",
    "            R_m.append(R)\n",
    "        R_m = np.array(R_m)\n",
    "        #Normalize Responsibilities\n",
    "        for c in clusters:\n",
    "            c.normalize_R(R_m)\n",
    "        #compute loglikelihood\n",
    "        ll = np.sum(np.log(np.sum(R_m, axis=0)))\n",
    "        lls.append(ll)\n",
    "        #M-Step:\n",
    "        for c in clusters:\n",
    "            update_params(c, data)\n",
    "        if len(lls)>2 and (np.abs(np.abs(ll) - np.abs(lls[step-1])) <= delta or (np.abs(np.abs(ll) - np.abs(lls[step-2])) <= delta)):\n",
    "            print(\"converged\")\n",
    "            return clusters, lls, ll\n",
    "    return clusters, lls, ll"
   ]
  },
  {
   "cell_type": "markdown",
   "metadata": {},
   "source": [
    "# b) Plot Clustering"
   ]
  },
  {
   "cell_type": "code",
   "execution_count": 92,
   "metadata": {
    "collapsed": false
   },
   "outputs": [],
   "source": [
    "path = 'faithful.dat'"
   ]
  },
  {
   "cell_type": "code",
   "execution_count": 164,
   "metadata": {
    "collapsed": false
   },
   "outputs": [],
   "source": [
    "def plot_clusters(datapath, k=3):\n",
    "    #compute gaussians and responsibility\n",
    "    gaussians, logls, lastlog = EM(datapath, k, 1000, 1)\n",
    "    print(logls)\n",
    "    print(gaussians[0].cov)\n",
    "    data = get_features(datapath)\n",
    "    #plot datapoints and most responsible gaussian\n",
    "    colormap = []\n",
    "    for i in range(data.shape[1]):\n",
    "        best_c = None\n",
    "        cid = 0\n",
    "        for c in range(len(gaussians)):\n",
    "            resp_c = gaussians[c].R[i]\n",
    "            if best_c is None or best_c < resp_c:\n",
    "                best_c = resp_c\n",
    "                cid = c\n",
    "        colormap.append(cid)\n",
    "\n",
    "    #plot mean and covariance ellipse of each gaussian\n",
    "    plt.scatter(data[0], data[1], c=colormap, alpha=0.5)\n",
    "    for c in range(len(gaussians)):\n",
    "        plt.scatter(gaussians[c].means[0], gaussians[c].means[1], c=\"yellow\")#, c=list(set(colormap)))\n",
    "        computeEllipse(gaussians[c].means, gaussians[c].cov)\n",
    "\n",
    "from matplotlib.patches import Ellipse\n",
    "def computeEllipse(mean, cov):\n",
    "    def eigsorted(cov):\n",
    "        ev, evec = np.linalg.eigh(cov)\n",
    "        orderedIdx = ev.argsort()[::-1]\n",
    "        return ev[orderedIdx], evec[:, orderedIdx]\n",
    "    ax = plt.gca()\n",
    "    ev, evec = eigsorted(cov)\n",
    "    theta = np.degrees(np.arctan2(*evec[:,0][::-1]))\n",
    "    width, height = 2 * 2 *np.sqrt(abs(ev))\n",
    "    ellipse = Ellipse(xy=mean, width=width, height=height, angle=theta, alpha=0.1)\n",
    "    ax.add_artist(ellipse)\n",
    "    return ellipse"
   ]
  },
  {
   "cell_type": "code",
   "execution_count": 165,
   "metadata": {
    "collapsed": false
   },
   "outputs": [
    {
     "name": "stdout",
     "output_type": "stream",
     "text": [
      "converged\n",
      "[-199.90549889937154, -407.07260815565542, -346.60877880174701, -457.29376583564647, -368.02095773626456, -460.50158639916413, -359.45188696424714, -467.93804969134618, -384.36217517983664, -477.97928939846872, -404.36985409888325, -479.23219271766527, -411.30364852436355, -478.58552445382799]\n",
      "[[ 0.00427751  0.02276116]\n",
      " [ 0.02276116  0.33556144]]\n"
     ]
    },
    {
     "data": {
      "image/png": "[encoded data removed]",
      "text/plain": [
       "<matplotlib.figure.Figure at 0x7f0d01eef390>"
      ]
     },
     "metadata": {},
     "output_type": "display_data"
    }
   ],
   "source": [
    "plot_clusters(path)"
   ]
  },
  {
   "cell_type": "markdown",
   "metadata": {},
   "source": [
    "# c) Determine best k"
   ]
  },
  {
   "cell_type": "code",
   "execution_count": 187,
   "metadata": {
    "collapsed": false
   },
   "outputs": [],
   "source": [
    "#determine best k:\n",
    "def test_for_ks(numKs = 10):\n",
    "    ks = []\n",
    "    logs = []\n",
    "    for k in range(2, numKs):\n",
    "        _, logls, _ = EM(path, k, 100, 1)\n",
    "        ks.append(k)\n",
    "        logs.append(logls[-1])\n",
    "    return ks, logs"
   ]
  },
  {
   "cell_type": "code",
   "execution_count": 188,
   "metadata": {
    "collapsed": false
   },
   "outputs": [
    {
     "name": "stdout",
     "output_type": "stream",
     "text": [
      "converged\n",
      "converged\n",
      "converged\n",
      "converged\n",
      "converged\n",
      "converged\n",
      "converged\n",
      "converged\n",
      "converged\n",
      "converged\n",
      "converged\n",
      "converged\n",
      "converged\n"
     ]
    }
   ],
   "source": [
    "ks, logs = test_for_ks(15)"
   ]
  },
  {
   "cell_type": "code",
   "execution_count": 189,
   "metadata": {
    "collapsed": false
   },
   "outputs": [
    {
     "data": {
      "image/png": "[encoded data removed]",
      "text/plain": [
       "<matplotlib.figure.Figure at 0x7f0d01c9c390>"
      ]
     },
     "metadata": {},
     "output_type": "display_data"
    }
   ],
   "source": [
    "plt.plot(ks, np.abs(logs))\n",
    "plt.show()\n",
    "plt.close()"
   ]
  },
  {
   "cell_type": "code",
   "execution_count": null,
   "metadata": {
    "collapsed": true
   },
   "outputs": [],
   "source": []
  }
 ],
 "metadata": {
  "kernelspec": {
   "display_name": "Python 3",
   "language": "python",
   "name": "python3"
  },
  "language_info": {
   "codemirror_mode": {
    "name": "ipython",
    "version": 3
   },
   "file_extension": ".py",
   "mimetype": "text/x-python",
   "name": "python",
   "nbconvert_exporter": "python",
   "pygments_lexer": "ipython3",
   "version": "3.5.2"
  }
 },
 "nbformat": 4,
 "nbformat_minor": 2
}
